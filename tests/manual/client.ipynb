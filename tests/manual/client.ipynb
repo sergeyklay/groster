{
 "cells": [
  {
   "cell_type": "code",
   "execution_count": null,
   "id": "c0da34ed",
   "metadata": {},
   "outputs": [],
   "source": [
    "import getpass\n",
    "\n",
    "from groster.http_client import BlizzardAPIClient\n",
    "\n",
    "REGION_NAME = \"eu\"\n",
    "REALM_NAME = \"terokkar\"\n",
    "GUILD_SLUG = \"darq-side-of-the-moon\"\n",
    "\n",
    "client_id = getpass.getpass(\"Blizzard Client ID: \")\n",
    "client_secret = getpass.getpass(\"Blizzard Client Secret: \")\n",
    "\n",
    "api_client = BlizzardAPIClient(\n",
    "    region=REGION_NAME,\n",
    "    client_id=client_id,\n",
    "    client_secret=client_secret,\n",
    ")"
   ]
  },
  {
   "cell_type": "code",
   "execution_count": null,
   "id": "228c6ed7",
   "metadata": {},
   "outputs": [],
   "source": [
    "import json\n",
    "\n",
    "roster_data = await api_client.get_guild_roster(REALM_NAME, GUILD_SLUG)\n",
    "print(json.dumps(\n",
    "    roster_data,\n",
    "    sort_keys=True,\n",
    "    indent=4,\n",
    "    separators=(\",\", \": \")\n",
    "))"
   ]
  },
  {
   "cell_type": "code",
   "execution_count": null,
   "id": "8071425a",
   "metadata": {},
   "outputs": [],
   "source": [
    "class_map = await api_client.get_playable_classes()\n",
    "print(json.dumps(\n",
    "    class_map,\n",
    "    sort_keys=True,\n",
    "    indent=4,\n",
    "    separators=(\",\", \": \")\n",
    "))"
   ]
  },
  {
   "cell_type": "code",
   "execution_count": null,
   "id": "7002b2f1",
   "metadata": {},
   "outputs": [],
   "source": [
    "race_map = await api_client.get_playable_races()\n",
    "print(json.dumps(\n",
    "    race_map,\n",
    "    sort_keys=True,\n",
    "    indent=4,\n",
    "    separators=(\",\", \": \")\n",
    "))"
   ]
  }
 ],
 "metadata": {
  "kernelspec": {
   "display_name": ".venv",
   "language": "python",
   "name": "python3"
  },
  "language_info": {
   "codemirror_mode": {
    "name": "ipython",
    "version": 3
   },
   "file_extension": ".py",
   "mimetype": "text/x-python",
   "name": "python",
   "nbconvert_exporter": "python",
   "pygments_lexer": "ipython3",
   "version": "3.12.9"
  }
 },
 "nbformat": 4,
 "nbformat_minor": 5
}
