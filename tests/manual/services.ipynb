{
 "cells": [
  {
   "cell_type": "code",
   "execution_count": null,
   "id": "c0da34ed",
   "metadata": {},
   "outputs": [],
   "source": [
    "import getpass\n",
    "import json\n",
    "\n",
    "from groster.http_client import BlizzardAPIClient\n",
    "from groster.services import (\n",
    "    fetch_member_fingerprint,\n",
    "    fetch_member_mounts_summary,\n",
    "    fetch_member_pets_summary,\n",
    "    get_guild_ranks,\n",
    "    get_playable_classes,\n",
    "    get_playable_races,\n",
    "    identify_alts,\n",
    ")\n",
    "\n",
    "REGION_NAME = \"eu\"\n",
    "REALM_NAME = \"terokkar\"\n",
    "GUILD_SLUG = \"darq-side-of-the-moon\"\n",
    "\n",
    "CHAR_NAME = \"Lucen\"\n",
    "CHAR_ID = 187869212\n",
    "\n",
    "client_id = getpass.getpass(\"Blizzard Client ID: \")\n",
    "client_secret = getpass.getpass(\"Blizzard Client Secret: \")\n",
    "\n",
    "api_client = BlizzardAPIClient(\n",
    "    region=REGION_NAME,\n",
    "    client_id=client_id,\n",
    "    client_secret=client_secret,\n",
    ")\n",
    "\n",
    "member = {\n",
    "    \"character\": {\n",
    "        \"name\": CHAR_NAME,\n",
    "        \"realm\": {\n",
    "            \"slug\": REALM_NAME\n",
    "        },\n",
    "        \"id\": CHAR_ID\n",
    "    }\n",
    "}\n",
    "\n",
    "def pretty_print(data: dict) -> None:\n",
    "    print(json.dumps(\n",
    "        data,\n",
    "        sort_keys=True,\n",
    "        indent=4,\n",
    "        separators=(\",\", \": \")\n",
    "    ))"
   ]
  },
  {
   "cell_type": "code",
   "execution_count": null,
   "id": "806ab4f1",
   "metadata": {},
   "outputs": [],
   "source": [
    "races = await get_playable_races(api_client)\n",
    "pretty_print(races)"
   ]
  },
  {
   "cell_type": "code",
   "execution_count": null,
   "id": "5398640b",
   "metadata": {},
   "outputs": [],
   "source": [
    "classes = await get_playable_classes(api_client)\n",
    "pretty_print(classes)"
   ]
  },
  {
   "cell_type": "code",
   "execution_count": null,
   "id": "a84a64dc",
   "metadata": {},
   "outputs": [],
   "source": [
    "classes = await get_guild_ranks(api_client, REGION_NAME, REALM_NAME, GUILD_SLUG)\n",
    "pretty_print(classes)"
   ]
  },
  {
   "cell_type": "code",
   "execution_count": null,
   "id": "b381b5dc",
   "metadata": {},
   "outputs": [],
   "source": [
    "pets = await fetch_member_pets_summary(api_client, member)\n",
    "pretty_print(pets)"
   ]
  },
  {
   "cell_type": "code",
   "execution_count": null,
   "id": "3aeb883a",
   "metadata": {},
   "outputs": [],
   "source": [
    "mounts = await fetch_member_mounts_summary(api_client, member)\n",
    "pretty_print(mounts)"
   ]
  },
  {
   "cell_type": "code",
   "execution_count": null,
   "id": "0a5d711a",
   "metadata": {},
   "outputs": [],
   "source": [
    "fingerprint = await fetch_member_fingerprint(api_client, member)\n",
    "pretty_print(fingerprint)"
   ]
  },
  {
   "cell_type": "code",
   "execution_count": null,
   "id": "bb35d936",
   "metadata": {},
   "outputs": [],
   "source": [
    "roster_data = await api_client.get_guild_roster(REALM_NAME, GUILD_SLUG)\n",
    "alts = await identify_alts(api_client, REGION_NAME, REALM_NAME, GUILD_SLUG, roster_data)\n",
    "\n",
    "pretty_print(alts)"
   ]
  },
  {
   "cell_type": "code",
   "execution_count": null,
   "id": "d1520f27",
   "metadata": {},
   "outputs": [],
   "source": [
    "await api_client.close()"
   ]
  }
 ],
 "metadata": {
  "kernelspec": {
   "display_name": ".venv",
   "language": "python",
   "name": "python3"
  },
  "language_info": {
   "codemirror_mode": {
    "name": "ipython",
    "version": 3
   },
   "file_extension": ".py",
   "mimetype": "text/x-python",
   "name": "python",
   "nbconvert_exporter": "python",
   "pygments_lexer": "ipython3",
   "version": "3.12.9"
  }
 },
 "nbformat": 4,
 "nbformat_minor": 5
}
